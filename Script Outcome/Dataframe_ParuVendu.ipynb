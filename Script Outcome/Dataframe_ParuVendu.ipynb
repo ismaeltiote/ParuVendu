{
 "cells": [
  {
   "cell_type": "code",
   "execution_count": 63,
   "id": "9f80ba8c",
   "metadata": {},
   "outputs": [
    {
     "name": "stdout",
     "output_type": "stream",
     "text": [
      "<class 'pandas.core.frame.DataFrame'>\n",
      "RangeIndex: 12137 entries, 0 to 12136\n",
      "Data columns (total 8 columns):\n",
      " #   Column            Non-Null Count  Dtype  \n",
      "---  ------            --------------  -----  \n",
      " 0   Type              12137 non-null  object \n",
      " 1   Nombre de Pièces  12137 non-null  float64\n",
      " 2   Surface (m²)      12137 non-null  int64  \n",
      " 3   Prix (€)          12137 non-null  object \n",
      " 4   Departement       12135 non-null  float64\n",
      " 5   Code Postal       12135 non-null  float64\n",
      " 6   Emplacement       12137 non-null  object \n",
      " 7   Description       12137 non-null  object \n",
      "dtypes: float64(3), int64(1), object(4)\n",
      "memory usage: 758.7+ KB\n"
     ]
    }
   ],
   "source": [
    "import pandas as pd\n",
    "import numpy as np\n",
    "\n",
    "immo = pd.read_csv('ParuVendu.csv')"
   ]
  },
  {
   "cell_type": "code",
   "execution_count": 73,
   "id": "1c2f40ea",
   "metadata": {},
   "outputs": [
    {
     "data": {
      "text/html": [
       "<div>\n",
       "<style scoped>\n",
       "    .dataframe tbody tr th:only-of-type {\n",
       "        vertical-align: middle;\n",
       "    }\n",
       "\n",
       "    .dataframe tbody tr th {\n",
       "        vertical-align: top;\n",
       "    }\n",
       "\n",
       "    .dataframe thead th {\n",
       "        text-align: right;\n",
       "    }\n",
       "</style>\n",
       "<table border=\"1\" class=\"dataframe\">\n",
       "  <thead>\n",
       "    <tr style=\"text-align: right;\">\n",
       "      <th></th>\n",
       "      <th>Type</th>\n",
       "      <th>Nombre de Pièces</th>\n",
       "      <th>Surface (m²)</th>\n",
       "      <th>Prix (€)</th>\n",
       "      <th>Departement</th>\n",
       "      <th>Code Postal</th>\n",
       "      <th>Emplacement</th>\n",
       "      <th>Description</th>\n",
       "    </tr>\n",
       "  </thead>\n",
       "  <tbody>\n",
       "    <tr>\n",
       "      <th>0</th>\n",
       "      <td>Maison</td>\n",
       "      <td>7</td>\n",
       "      <td>190</td>\n",
       "      <td>770000</td>\n",
       "      <td>95</td>\n",
       "      <td>95880</td>\n",
       "      <td>Enghien-les-Bains (95880)</td>\n",
       "      <td>Maison/villa 7 pièces. a deux pas d'enghien le...</td>\n",
       "    </tr>\n",
       "    <tr>\n",
       "      <th>1</th>\n",
       "      <td>Appartement</td>\n",
       "      <td>3</td>\n",
       "      <td>62</td>\n",
       "      <td>488000</td>\n",
       "      <td>92</td>\n",
       "      <td>92400</td>\n",
       "      <td>Courbevoie (92400)</td>\n",
       "      <td>T3 3 pièces. courbevoie faubourg de l'arche  -...</td>\n",
       "    </tr>\n",
       "    <tr>\n",
       "      <th>2</th>\n",
       "      <td>Maison</td>\n",
       "      <td>6</td>\n",
       "      <td>190</td>\n",
       "      <td>879000</td>\n",
       "      <td>95</td>\n",
       "      <td>95160</td>\n",
       "      <td>Montmorency (95160)</td>\n",
       "      <td>Maison contemporaine 6 pièces. a 12 mn de gare...</td>\n",
       "    </tr>\n",
       "    <tr>\n",
       "      <th>3</th>\n",
       "      <td>Appartement</td>\n",
       "      <td>2</td>\n",
       "      <td>60</td>\n",
       "      <td>225750</td>\n",
       "      <td>95</td>\n",
       "      <td>95100</td>\n",
       "      <td>Argenteuil (95100)</td>\n",
       "      <td>Argenteuil t3/f3. tlm immobilier vous présente...</td>\n",
       "    </tr>\n",
       "    <tr>\n",
       "      <th>4</th>\n",
       "      <td>Appartement</td>\n",
       "      <td>2</td>\n",
       "      <td>34</td>\n",
       "      <td>258750</td>\n",
       "      <td>92</td>\n",
       "      <td>92320</td>\n",
       "      <td>Châtillon (92320)</td>\n",
       "      <td>2 pièces 1 chambre + cave entre centre-ville e...</td>\n",
       "    </tr>\n",
       "  </tbody>\n",
       "</table>\n",
       "</div>"
      ],
      "text/plain": [
       "          Type  Nombre de Pièces  Surface (m²) Prix (€)  Departement  \\\n",
       "0       Maison                 7           190   770000           95   \n",
       "1  Appartement                 3            62   488000           92   \n",
       "2       Maison                 6           190   879000           95   \n",
       "3  Appartement                 2            60   225750           95   \n",
       "4  Appartement                 2            34   258750           92   \n",
       "\n",
       "   Code Postal                Emplacement  \\\n",
       "0        95880  Enghien-les-Bains (95880)   \n",
       "1        92400         Courbevoie (92400)   \n",
       "2        95160        Montmorency (95160)   \n",
       "3        95100         Argenteuil (95100)   \n",
       "4        92320          Châtillon (92320)   \n",
       "\n",
       "                                         Description  \n",
       "0  Maison/villa 7 pièces. a deux pas d'enghien le...  \n",
       "1  T3 3 pièces. courbevoie faubourg de l'arche  -...  \n",
       "2  Maison contemporaine 6 pièces. a 12 mn de gare...  \n",
       "3  Argenteuil t3/f3. tlm immobilier vous présente...  \n",
       "4  2 pièces 1 chambre + cave entre centre-ville e...  "
      ]
     },
     "execution_count": 73,
     "metadata": {},
     "output_type": "execute_result"
    }
   ],
   "source": [
    "immo.head()"
   ]
  },
  {
   "cell_type": "code",
   "execution_count": 74,
   "id": "c4d16772",
   "metadata": {},
   "outputs": [
    {
     "name": "stdout",
     "output_type": "stream",
     "text": [
      "<class 'pandas.core.frame.DataFrame'>\n",
      "Int64Index: 12135 entries, 0 to 12136\n",
      "Data columns (total 8 columns):\n",
      " #   Column            Non-Null Count  Dtype \n",
      "---  ------            --------------  ----- \n",
      " 0   Type              12135 non-null  object\n",
      " 1   Nombre de Pièces  12135 non-null  int32 \n",
      " 2   Surface (m²)      12135 non-null  int64 \n",
      " 3   Prix (€)          12135 non-null  object\n",
      " 4   Departement       12135 non-null  int32 \n",
      " 5   Code Postal       12135 non-null  int32 \n",
      " 6   Emplacement       12135 non-null  object\n",
      " 7   Description       12135 non-null  object\n",
      "dtypes: int32(3), int64(1), object(4)\n",
      "memory usage: 711.0+ KB\n"
     ]
    }
   ],
   "source": [
    "immo.info()"
   ]
  }
 ],
 "metadata": {
  "kernelspec": {
   "display_name": "Python 3 (ipykernel)",
   "language": "python",
   "name": "python3"
  },
  "language_info": {
   "codemirror_mode": {
    "name": "ipython",
    "version": 3
   },
   "file_extension": ".py",
   "mimetype": "text/x-python",
   "name": "python",
   "nbconvert_exporter": "python",
   "pygments_lexer": "ipython3",
   "version": "3.9.12"
  }
 },
 "nbformat": 4,
 "nbformat_minor": 5
}
